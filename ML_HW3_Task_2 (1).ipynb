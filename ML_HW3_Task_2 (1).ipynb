{
  "nbformat": 4,
  "nbformat_minor": 0,
  "metadata": {
    "colab": {
      "provenance": []
    },
    "kernelspec": {
      "name": "python3",
      "display_name": "Python 3"
    },
    "language_info": {
      "name": "python"
    },
    "accelerator": "GPU",
    "gpuClass": "standard"
  },
  "cells": [
    {
      "cell_type": "markdown",
      "source": [
        "## **INSTALLING SURPRISE PACKAGE**"
      ],
      "metadata": {
        "id": "CfqiL-k1xzcb"
      }
    },
    {
      "cell_type": "code",
      "source": [
        "!pip3 install surprise"
      ],
      "metadata": {
        "colab": {
          "base_uri": "https://localhost:8080/"
        },
        "id": "7ZwfDZJmsqUF",
        "outputId": "876d32ec-bfd4-49d1-b50b-1ceec0578c15"
      },
      "execution_count": 1,
      "outputs": [
        {
          "output_type": "stream",
          "name": "stdout",
          "text": [
            "Looking in indexes: https://pypi.org/simple, https://us-python.pkg.dev/colab-wheels/public/simple/\n",
            "Requirement already satisfied: surprise in /usr/local/lib/python3.7/dist-packages (0.1)\n",
            "Requirement already satisfied: scikit-surprise in /usr/local/lib/python3.7/dist-packages (from surprise) (1.1.1)\n",
            "Requirement already satisfied: numpy>=1.11.2 in /usr/local/lib/python3.7/dist-packages (from scikit-surprise->surprise) (1.21.6)\n",
            "Requirement already satisfied: scipy>=1.0.0 in /usr/local/lib/python3.7/dist-packages (from scikit-surprise->surprise) (1.7.3)\n",
            "Requirement already satisfied: joblib>=0.11 in /usr/local/lib/python3.7/dist-packages (from scikit-surprise->surprise) (1.2.0)\n",
            "Requirement already satisfied: six>=1.10.0 in /usr/local/lib/python3.7/dist-packages (from scikit-surprise->surprise) (1.15.0)\n"
          ]
        }
      ]
    },
    {
      "cell_type": "markdown",
      "source": [
        "## **IMPORTS**"
      ],
      "metadata": {
        "id": "qGFYRd5Lx74G"
      }
    },
    {
      "cell_type": "code",
      "execution_count": 2,
      "metadata": {
        "id": "pu-Btj5_sL1-"
      },
      "outputs": [],
      "source": [
        "from math import sqrt\n",
        "import pandas as pd\n",
        "import numpy as np\n",
        "import seaborn as sns\n",
        "from matplotlib import pyplot as plt\n",
        "from sklearn.feature_extraction.text import TfidfVectorizer\n",
        "from sklearn.metrics.pairwise import linear_kernel\n",
        "\n",
        "from surprise import SVD, similarities\n",
        "from surprise import Dataset, accuracy\n",
        "from surprise import NormalPredictor\n",
        "from surprise import Reader\n",
        "from surprise import KNNBasic,  KNNWithMeans, KNNBaseline\n",
        "from surprise.model_selection import cross_validate, train_test_split, KFold"
      ]
    },
    {
      "cell_type": "markdown",
      "source": [
        "## **LOADING DATASET**"
      ],
      "metadata": {
        "id": "IvKxET7lyDYb"
      }
    },
    {
      "cell_type": "code",
      "source": [
        "rating = pd.read_csv('ratings_small.csv')"
      ],
      "metadata": {
        "id": "ydVTRahbs1yV"
      },
      "execution_count": 3,
      "outputs": []
    },
    {
      "cell_type": "code",
      "source": [
        "rating.head()"
      ],
      "metadata": {
        "colab": {
          "base_uri": "https://localhost:8080/",
          "height": 206
        },
        "id": "cJeQTA8Us1g5",
        "outputId": "7fa88b6a-149a-4876-f5d8-a462306bf622"
      },
      "execution_count": 4,
      "outputs": [
        {
          "output_type": "execute_result",
          "data": {
            "text/plain": [
              "   userId  movieId  rating   timestamp\n",
              "0       1       31     2.5  1260759144\n",
              "1       1     1029     3.0  1260759179\n",
              "2       1     1061     3.0  1260759182\n",
              "3       1     1129     2.0  1260759185\n",
              "4       1     1172     4.0  1260759205"
            ],
            "text/html": [
              "\n",
              "  <div id=\"df-52eb9bb4-27dd-421a-a74a-f3a1ab52e756\">\n",
              "    <div class=\"colab-df-container\">\n",
              "      <div>\n",
              "<style scoped>\n",
              "    .dataframe tbody tr th:only-of-type {\n",
              "        vertical-align: middle;\n",
              "    }\n",
              "\n",
              "    .dataframe tbody tr th {\n",
              "        vertical-align: top;\n",
              "    }\n",
              "\n",
              "    .dataframe thead th {\n",
              "        text-align: right;\n",
              "    }\n",
              "</style>\n",
              "<table border=\"1\" class=\"dataframe\">\n",
              "  <thead>\n",
              "    <tr style=\"text-align: right;\">\n",
              "      <th></th>\n",
              "      <th>userId</th>\n",
              "      <th>movieId</th>\n",
              "      <th>rating</th>\n",
              "      <th>timestamp</th>\n",
              "    </tr>\n",
              "  </thead>\n",
              "  <tbody>\n",
              "    <tr>\n",
              "      <th>0</th>\n",
              "      <td>1</td>\n",
              "      <td>31</td>\n",
              "      <td>2.5</td>\n",
              "      <td>1260759144</td>\n",
              "    </tr>\n",
              "    <tr>\n",
              "      <th>1</th>\n",
              "      <td>1</td>\n",
              "      <td>1029</td>\n",
              "      <td>3.0</td>\n",
              "      <td>1260759179</td>\n",
              "    </tr>\n",
              "    <tr>\n",
              "      <th>2</th>\n",
              "      <td>1</td>\n",
              "      <td>1061</td>\n",
              "      <td>3.0</td>\n",
              "      <td>1260759182</td>\n",
              "    </tr>\n",
              "    <tr>\n",
              "      <th>3</th>\n",
              "      <td>1</td>\n",
              "      <td>1129</td>\n",
              "      <td>2.0</td>\n",
              "      <td>1260759185</td>\n",
              "    </tr>\n",
              "    <tr>\n",
              "      <th>4</th>\n",
              "      <td>1</td>\n",
              "      <td>1172</td>\n",
              "      <td>4.0</td>\n",
              "      <td>1260759205</td>\n",
              "    </tr>\n",
              "  </tbody>\n",
              "</table>\n",
              "</div>\n",
              "      <button class=\"colab-df-convert\" onclick=\"convertToInteractive('df-52eb9bb4-27dd-421a-a74a-f3a1ab52e756')\"\n",
              "              title=\"Convert this dataframe to an interactive table.\"\n",
              "              style=\"display:none;\">\n",
              "        \n",
              "  <svg xmlns=\"http://www.w3.org/2000/svg\" height=\"24px\"viewBox=\"0 0 24 24\"\n",
              "       width=\"24px\">\n",
              "    <path d=\"M0 0h24v24H0V0z\" fill=\"none\"/>\n",
              "    <path d=\"M18.56 5.44l.94 2.06.94-2.06 2.06-.94-2.06-.94-.94-2.06-.94 2.06-2.06.94zm-11 1L8.5 8.5l.94-2.06 2.06-.94-2.06-.94L8.5 2.5l-.94 2.06-2.06.94zm10 10l.94 2.06.94-2.06 2.06-.94-2.06-.94-.94-2.06-.94 2.06-2.06.94z\"/><path d=\"M17.41 7.96l-1.37-1.37c-.4-.4-.92-.59-1.43-.59-.52 0-1.04.2-1.43.59L10.3 9.45l-7.72 7.72c-.78.78-.78 2.05 0 2.83L4 21.41c.39.39.9.59 1.41.59.51 0 1.02-.2 1.41-.59l7.78-7.78 2.81-2.81c.8-.78.8-2.07 0-2.86zM5.41 20L4 18.59l7.72-7.72 1.47 1.35L5.41 20z\"/>\n",
              "  </svg>\n",
              "      </button>\n",
              "      \n",
              "  <style>\n",
              "    .colab-df-container {\n",
              "      display:flex;\n",
              "      flex-wrap:wrap;\n",
              "      gap: 12px;\n",
              "    }\n",
              "\n",
              "    .colab-df-convert {\n",
              "      background-color: #E8F0FE;\n",
              "      border: none;\n",
              "      border-radius: 50%;\n",
              "      cursor: pointer;\n",
              "      display: none;\n",
              "      fill: #1967D2;\n",
              "      height: 32px;\n",
              "      padding: 0 0 0 0;\n",
              "      width: 32px;\n",
              "    }\n",
              "\n",
              "    .colab-df-convert:hover {\n",
              "      background-color: #E2EBFA;\n",
              "      box-shadow: 0px 1px 2px rgba(60, 64, 67, 0.3), 0px 1px 3px 1px rgba(60, 64, 67, 0.15);\n",
              "      fill: #174EA6;\n",
              "    }\n",
              "\n",
              "    [theme=dark] .colab-df-convert {\n",
              "      background-color: #3B4455;\n",
              "      fill: #D2E3FC;\n",
              "    }\n",
              "\n",
              "    [theme=dark] .colab-df-convert:hover {\n",
              "      background-color: #434B5C;\n",
              "      box-shadow: 0px 1px 3px 1px rgba(0, 0, 0, 0.15);\n",
              "      filter: drop-shadow(0px 1px 2px rgba(0, 0, 0, 0.3));\n",
              "      fill: #FFFFFF;\n",
              "    }\n",
              "  </style>\n",
              "\n",
              "      <script>\n",
              "        const buttonEl =\n",
              "          document.querySelector('#df-52eb9bb4-27dd-421a-a74a-f3a1ab52e756 button.colab-df-convert');\n",
              "        buttonEl.style.display =\n",
              "          google.colab.kernel.accessAllowed ? 'block' : 'none';\n",
              "\n",
              "        async function convertToInteractive(key) {\n",
              "          const element = document.querySelector('#df-52eb9bb4-27dd-421a-a74a-f3a1ab52e756');\n",
              "          const dataTable =\n",
              "            await google.colab.kernel.invokeFunction('convertToInteractive',\n",
              "                                                     [key], {});\n",
              "          if (!dataTable) return;\n",
              "\n",
              "          const docLinkHtml = 'Like what you see? Visit the ' +\n",
              "            '<a target=\"_blank\" href=https://colab.research.google.com/notebooks/data_table.ipynb>data table notebook</a>'\n",
              "            + ' to learn more about interactive tables.';\n",
              "          element.innerHTML = '';\n",
              "          dataTable['output_type'] = 'display_data';\n",
              "          await google.colab.output.renderOutput(dataTable, element);\n",
              "          const docLink = document.createElement('div');\n",
              "          docLink.innerHTML = docLinkHtml;\n",
              "          element.appendChild(docLink);\n",
              "        }\n",
              "      </script>\n",
              "    </div>\n",
              "  </div>\n",
              "  "
            ]
          },
          "metadata": {},
          "execution_count": 4
        }
      ]
    },
    {
      "cell_type": "code",
      "source": [
        "from surprise import BaselineOnly\n",
        "reader = Reader(rating_scale=(1, 5))\n",
        "data = Dataset.load_from_df(rating[['userId', 'movieId', 'rating']], reader)"
      ],
      "metadata": {
        "id": "2ljH9XVHtG1a"
      },
      "execution_count": 5,
      "outputs": []
    },
    {
      "cell_type": "markdown",
      "source": [
        "**3C. Computing the average MAE and RMSE of the Probabilistic Matrix Factorization (PMF), User based Collaborative Filtering, Item based Collaborative Filtering, under the 5-folds cross-validation**"
      ],
      "metadata": {
        "id": "rwyV0EXB6FAR"
      }
    },
    {
      "cell_type": "code",
      "source": [
        "mae_list  = []\n",
        "rmse_list = []"
      ],
      "metadata": {
        "id": "mU3LuD9n-tkV"
      },
      "execution_count": 6,
      "outputs": []
    },
    {
      "cell_type": "markdown",
      "source": [
        "# **Probabilistic Matrix Factorization**"
      ],
      "metadata": {
        "id": "LjGdFjVkyrio"
      }
    },
    {
      "cell_type": "code",
      "source": [
        "model = SVD(biased = False)\n",
        "results = cross_validate(model, data, measures=['RMSE', 'MAE'], cv=5, verbose=True)\n",
        "\n",
        "mean_mae = results['test_mae'].mean()\n",
        "mean_rmse = results['test_rmse'].mean()\n",
        "\n",
        "print(f'Average MAE: {mean_mae}')\n",
        "print(f'Average RMSE: {mean_rmse}')\n",
        "\n",
        "mae_list.append(mean_mae)\n",
        "rmse_list.append(mean_rmse)"
      ],
      "metadata": {
        "colab": {
          "base_uri": "https://localhost:8080/"
        },
        "id": "P85n-c0ftGsv",
        "outputId": "89223951-f448-420c-9d76-b9268b42df4a"
      },
      "execution_count": 7,
      "outputs": [
        {
          "output_type": "stream",
          "name": "stdout",
          "text": [
            "Evaluating RMSE, MAE of algorithm SVD on 5 split(s).\n",
            "\n",
            "                  Fold 1  Fold 2  Fold 3  Fold 4  Fold 5  Mean    Std     \n",
            "RMSE (testset)    1.0185  1.0006  1.0142  1.0008  1.0107  1.0090  0.0072  \n",
            "MAE (testset)     0.7858  0.7726  0.7822  0.7743  0.7805  0.7791  0.0049  \n",
            "Fit time          6.96    8.78    4.24    5.07    4.18    5.84    1.78    \n",
            "Test time         0.23    0.20    0.18    0.12    0.19    0.19    0.04    \n",
            "Average MAE: 0.7790684753091051\n",
            "Average RMSE: 1.008962333518911\n"
          ]
        }
      ]
    },
    {
      "cell_type": "markdown",
      "source": [
        "# **Item based Collaborative Filtering**"
      ],
      "metadata": {
        "id": "BP_KK7bgywEO"
      }
    },
    {
      "cell_type": "code",
      "source": [
        "sim_options = {'user_based':  False}\n",
        "knn_m = KNNBasic(sim_options=sim_options)\n",
        "scores = cross_validate(knn_m, data, measures=['RMSE', 'MAE'], cv=5, verbose=True)\n",
        "\n",
        "mean_mae = scores['test_mae'].mean()\n",
        "mean_rmse = scores['test_rmse'].mean()\n",
        "\n",
        "print(f'Average MAE: {mean_mae}')\n",
        "print(f'Average RMSE: {mean_rmse}')\n",
        "\n",
        "mae_list.append(mean_mae)\n",
        "rmse_list.append(mean_rmse)"
      ],
      "metadata": {
        "colab": {
          "base_uri": "https://localhost:8080/"
        },
        "id": "m9B9mCT9tGYv",
        "outputId": "3d49f8b9-c1e3-4821-d7b4-ab99a0c1d8c8"
      },
      "execution_count": 8,
      "outputs": [
        {
          "output_type": "stream",
          "name": "stdout",
          "text": [
            "Computing the msd similarity matrix...\n",
            "Done computing similarity matrix.\n",
            "Computing the msd similarity matrix...\n",
            "Done computing similarity matrix.\n",
            "Computing the msd similarity matrix...\n",
            "Done computing similarity matrix.\n",
            "Computing the msd similarity matrix...\n",
            "Done computing similarity matrix.\n",
            "Computing the msd similarity matrix...\n",
            "Done computing similarity matrix.\n",
            "Evaluating RMSE, MAE of algorithm KNNBasic on 5 split(s).\n",
            "\n",
            "                  Fold 1  Fold 2  Fold 3  Fold 4  Fold 5  Mean    Std     \n",
            "RMSE (testset)    0.9416  0.9370  0.9363  0.9295  0.9279  0.9344  0.0050  \n",
            "MAE (testset)     0.7254  0.7233  0.7224  0.7153  0.7163  0.7206  0.0040  \n",
            "Fit time          3.91    3.67    3.50    4.50    4.52    4.02    0.42    \n",
            "Test time         5.30    5.84    6.46    5.39    5.32    5.66    0.45    \n",
            "Average MAE: 0.7205624556935298\n",
            "Average RMSE: 0.9344496228850776\n"
          ]
        }
      ]
    },
    {
      "cell_type": "markdown",
      "source": [
        "# **User based Collaborative Filtering**"
      ],
      "metadata": {
        "id": "qjLTk10Oy31h"
      }
    },
    {
      "cell_type": "code",
      "source": [
        "sim_options = {'user_based': True}\n",
        "\n",
        "knn_m = KNNBasic(sim_options=sim_options)\n",
        "scores = cross_validate(knn_m, data, measures=['RMSE', 'MAE'], cv=5, verbose=True)\n",
        "\n",
        "mean_mae = scores['test_mae'].mean()\n",
        "mean_rmse = scores['test_rmse'].mean()\n",
        "\n",
        "print(f'Average MAE: {mean_mae}')\n",
        "print(f'Average RMSE: {mean_rmse}')\n",
        "\n",
        "mae_list.append(mean_mae)\n",
        "rmse_list.append(mean_rmse)"
      ],
      "metadata": {
        "colab": {
          "base_uri": "https://localhost:8080/"
        },
        "id": "PzF9uWTEzkvU",
        "outputId": "148a707a-136d-4288-ac99-ed13be15a921"
      },
      "execution_count": 9,
      "outputs": [
        {
          "output_type": "stream",
          "name": "stdout",
          "text": [
            "Computing the msd similarity matrix...\n",
            "Done computing similarity matrix.\n",
            "Computing the msd similarity matrix...\n",
            "Done computing similarity matrix.\n",
            "Computing the msd similarity matrix...\n",
            "Done computing similarity matrix.\n",
            "Computing the msd similarity matrix...\n",
            "Done computing similarity matrix.\n",
            "Computing the msd similarity matrix...\n",
            "Done computing similarity matrix.\n",
            "Evaluating RMSE, MAE of algorithm KNNBasic on 5 split(s).\n",
            "\n",
            "                  Fold 1  Fold 2  Fold 3  Fold 4  Fold 5  Mean    Std     \n",
            "RMSE (testset)    0.9805  0.9523  0.9731  0.9730  0.9620  0.9682  0.0099  \n",
            "MAE (testset)     0.7525  0.7348  0.7487  0.7443  0.7395  0.7440  0.0063  \n",
            "Fit time          0.16    0.13    0.14    0.14    0.13    0.14    0.01    \n",
            "Test time         1.19    1.26    1.15    1.19    1.26    1.21    0.04    \n",
            "Average MAE: 0.7439696243248811\n",
            "Average RMSE: 0.9681862301591149\n"
          ]
        }
      ]
    },
    {
      "cell_type": "markdown",
      "source": [
        "# **MAE & RMSE Results**"
      ],
      "metadata": {
        "id": "Y7HCt5Zhy7k-"
      }
    },
    {
      "cell_type": "code",
      "source": [
        "print(\"MAE & RMSE for Probabilistic Matrix Factorization Model : \" + str(mae_list[0]) + ' & ' + str(rmse_list[0]))\n",
        "print(\"MAE & RMSE for Item Based Collaborative Filtering Model : \" + str(mae_list[1]) + ' & ' + str(rmse_list[1]))\n",
        "print(\"MAE & RMSE for User Based Collaborative Filtering Model : \" + str(mae_list[2]) + ' & ' + str(rmse_list[2]))"
      ],
      "metadata": {
        "colab": {
          "base_uri": "https://localhost:8080/"
        },
        "id": "Wh_aCr0P_GpV",
        "outputId": "cbdd1050-44c2-4918-96e6-f1704fd0750c"
      },
      "execution_count": 10,
      "outputs": [
        {
          "output_type": "stream",
          "name": "stdout",
          "text": [
            "MAE & RMSE for Probabilistic Matrix Factorization Model : 0.7790684753091051 & 1.008962333518911\n",
            "MAE & RMSE for Item Based Collaborative Filtering Model : 0.7205624556935298 & 0.9344496228850776\n",
            "MAE & RMSE for User Based Collaborative Filtering Model : 0.7439696243248811 & 0.9681862301591149\n"
          ]
        }
      ]
    },
    {
      "cell_type": "markdown",
      "source": [
        "**3E. Examine how the cosine, MSD (Mean Squared Difference), and Pearson similarities impact the performances of User based Collaborative Filtering and Item based Collaborative Filtering.**"
      ],
      "metadata": {
        "id": "RUjQxYE17Muk"
      }
    },
    {
      "cell_type": "code",
      "source": [
        "item_mae=[]\n",
        "item_rmse=[]\n",
        "user_mae=[]\n",
        "user_rmse=[]"
      ],
      "metadata": {
        "id": "BzCyGi4dCIMV"
      },
      "execution_count": 11,
      "outputs": []
    },
    {
      "cell_type": "markdown",
      "source": [
        "## **COSINE SIMILARITY**"
      ],
      "metadata": {
        "id": "IRnSQ0K67ko7"
      }
    },
    {
      "cell_type": "code",
      "source": [
        "sim_options = {'user_based':  False, \"name\": 'cosine'}\n",
        "knn_m = KNNBasic(sim_options=sim_options)\n",
        "scores = cross_validate(knn_m, data, measures=['RMSE', 'MAE'], cv=5, verbose=True)\n",
        "\n",
        "mean_mae = scores['test_mae'].mean()\n",
        "mean_rmse = scores['test_rmse'].mean()\n",
        "\n",
        "print(f'Average MAE: {mean_mae}')\n",
        "print(f'Average RMSE: {mean_rmse}')\n",
        "\n",
        "item_mae.append(mean_mae)\n",
        "item_rmse.append(mean_rmse)"
      ],
      "metadata": {
        "colab": {
          "base_uri": "https://localhost:8080/"
        },
        "id": "F_zgwpOMz4Td",
        "outputId": "952ed1cf-4ce1-4546-90a3-7fc438fb3353"
      },
      "execution_count": 12,
      "outputs": [
        {
          "output_type": "stream",
          "name": "stdout",
          "text": [
            "Computing the cosine similarity matrix...\n",
            "Done computing similarity matrix.\n",
            "Computing the cosine similarity matrix...\n",
            "Done computing similarity matrix.\n",
            "Computing the cosine similarity matrix...\n",
            "Done computing similarity matrix.\n",
            "Computing the cosine similarity matrix...\n",
            "Done computing similarity matrix.\n",
            "Computing the cosine similarity matrix...\n",
            "Done computing similarity matrix.\n",
            "Evaluating RMSE, MAE of algorithm KNNBasic on 5 split(s).\n",
            "\n",
            "                  Fold 1  Fold 2  Fold 3  Fold 4  Fold 5  Mean    Std     \n",
            "RMSE (testset)    0.9998  0.9848  0.9982  0.9940  0.9980  0.9950  0.0054  \n",
            "MAE (testset)     0.7801  0.7682  0.7757  0.7743  0.7755  0.7748  0.0038  \n",
            "Fit time          10.98   11.41   11.59   12.46   11.37   11.56   0.49    \n",
            "Test time         4.93    5.32    5.04    5.26    5.19    5.15    0.14    \n",
            "Average MAE: 0.7747530869514511\n",
            "Average RMSE: 0.9949706605236919\n"
          ]
        }
      ]
    },
    {
      "cell_type": "code",
      "source": [
        "sim_options = {'user_based':  True, \"name\": 'cosine'}\n",
        "knn_m = KNNBasic(sim_options=sim_options)\n",
        "scores = cross_validate(knn_m, data, measures=['RMSE', 'MAE'], cv=5, verbose=True)\n",
        "\n",
        "mean_mae = scores['test_mae'].mean()\n",
        "mean_rmse = scores['test_rmse'].mean()\n",
        "\n",
        "print(f'Average MAE: {mean_mae}')\n",
        "print(f'Average RMSE: {mean_rmse}')\n",
        "\n",
        "user_mae.append(mean_mae)\n",
        "user_rmse.append(mean_rmse)"
      ],
      "metadata": {
        "colab": {
          "base_uri": "https://localhost:8080/"
        },
        "id": "ufB7dYnp3pBq",
        "outputId": "bb10590d-5a00-4965-c5d9-e5e5c029a1b6"
      },
      "execution_count": 13,
      "outputs": [
        {
          "output_type": "stream",
          "name": "stdout",
          "text": [
            "Computing the cosine similarity matrix...\n",
            "Done computing similarity matrix.\n",
            "Computing the cosine similarity matrix...\n",
            "Done computing similarity matrix.\n",
            "Computing the cosine similarity matrix...\n",
            "Done computing similarity matrix.\n",
            "Computing the cosine similarity matrix...\n",
            "Done computing similarity matrix.\n",
            "Computing the cosine similarity matrix...\n",
            "Done computing similarity matrix.\n",
            "Evaluating RMSE, MAE of algorithm KNNBasic on 5 split(s).\n",
            "\n",
            "                  Fold 1  Fold 2  Fold 3  Fold 4  Fold 5  Mean    Std     \n",
            "RMSE (testset)    0.9977  0.9949  0.9960  0.9857  0.9904  0.9929  0.0043  \n",
            "MAE (testset)     0.7707  0.7690  0.7693  0.7610  0.7664  0.7673  0.0034  \n",
            "Fit time          0.30    0.30    0.30    0.31    0.31    0.31    0.00    \n",
            "Test time         1.23    1.27    1.20    1.31    1.26    1.25    0.04    \n",
            "Average MAE: 0.7672612644337056\n",
            "Average RMSE: 0.9929470583017157\n"
          ]
        }
      ]
    },
    {
      "cell_type": "markdown",
      "source": [
        "## **MEAN SQUARED DIFFERENCE SIMILARITY**"
      ],
      "metadata": {
        "id": "eRfm99du8J2c"
      }
    },
    {
      "cell_type": "code",
      "source": [
        "sim_options = {'user_based':  False, \"name\": 'msd'}\n",
        "knn_m = KNNBasic(sim_options=sim_options)\n",
        "scores = cross_validate(knn_m, data, measures=['RMSE', 'MAE'], cv=5, verbose=True)\n",
        "\n",
        "mean_mae = scores['test_mae'].mean()\n",
        "mean_rmse = scores['test_rmse'].mean()\n",
        "\n",
        "print(f'Average MAE: {mean_mae}')\n",
        "print(f'Average RMSE: {mean_rmse}')\n",
        "\n",
        "item_mae.append(mean_mae)\n",
        "item_rmse.append(mean_rmse)"
      ],
      "metadata": {
        "colab": {
          "base_uri": "https://localhost:8080/"
        },
        "id": "OE3guR5S48sQ",
        "outputId": "851d11bc-c838-4732-9beb-412ee0acc657"
      },
      "execution_count": 14,
      "outputs": [
        {
          "output_type": "stream",
          "name": "stdout",
          "text": [
            "Computing the msd similarity matrix...\n",
            "Done computing similarity matrix.\n",
            "Computing the msd similarity matrix...\n",
            "Done computing similarity matrix.\n",
            "Computing the msd similarity matrix...\n",
            "Done computing similarity matrix.\n",
            "Computing the msd similarity matrix...\n",
            "Done computing similarity matrix.\n",
            "Computing the msd similarity matrix...\n",
            "Done computing similarity matrix.\n",
            "Evaluating RMSE, MAE of algorithm KNNBasic on 5 split(s).\n",
            "\n",
            "                  Fold 1  Fold 2  Fold 3  Fold 4  Fold 5  Mean    Std     \n",
            "RMSE (testset)    0.9296  0.9367  0.9340  0.9301  0.9423  0.9345  0.0047  \n",
            "MAE (testset)     0.7174  0.7221  0.7212  0.7198  0.7254  0.7212  0.0026  \n",
            "Fit time          3.55    3.57    3.58    3.46    3.55    3.54    0.04    \n",
            "Test time         6.52    5.52    5.51    5.35    6.50    5.88    0.52    \n",
            "Average MAE: 0.7211793568579211\n",
            "Average RMSE: 0.9345332555005503\n"
          ]
        }
      ]
    },
    {
      "cell_type": "code",
      "source": [
        "sim_options = {'user_based':  True, \"name\": 'msd'}\n",
        "knn_m = KNNBasic(sim_options=sim_options)\n",
        "scores = cross_validate(knn_m, data, measures=['RMSE', 'MAE'], cv=5, verbose=True)\n",
        "\n",
        "mean_mae = scores['test_mae'].mean()\n",
        "mean_rmse = scores['test_rmse'].mean()\n",
        "\n",
        "print(f'Average MAE: {mean_mae}')\n",
        "print(f'Average RMSE: {mean_rmse}')\n",
        "\n",
        "user_mae.append(mean_mae)\n",
        "user_rmse.append(mean_rmse)"
      ],
      "metadata": {
        "colab": {
          "base_uri": "https://localhost:8080/"
        },
        "id": "axDL8e518UzG",
        "outputId": "5391e4e2-f651-4f9a-8fe1-08efc5adffc1"
      },
      "execution_count": 15,
      "outputs": [
        {
          "output_type": "stream",
          "name": "stdout",
          "text": [
            "Computing the msd similarity matrix...\n",
            "Done computing similarity matrix.\n",
            "Computing the msd similarity matrix...\n",
            "Done computing similarity matrix.\n",
            "Computing the msd similarity matrix...\n",
            "Done computing similarity matrix.\n",
            "Computing the msd similarity matrix...\n",
            "Done computing similarity matrix.\n",
            "Computing the msd similarity matrix...\n",
            "Done computing similarity matrix.\n",
            "Evaluating RMSE, MAE of algorithm KNNBasic on 5 split(s).\n",
            "\n",
            "                  Fold 1  Fold 2  Fold 3  Fold 4  Fold 5  Mean    Std     \n",
            "RMSE (testset)    0.9697  0.9683  0.9712  0.9659  0.9638  0.9678  0.0027  \n",
            "MAE (testset)     0.7454  0.7477  0.7457  0.7439  0.7381  0.7442  0.0033  \n",
            "Fit time          0.11    0.17    0.13    0.14    0.14    0.14    0.02    \n",
            "Test time         2.01    1.36    2.25    1.27    1.23    1.62    0.42    \n",
            "Average MAE: 0.7441514412612129\n",
            "Average RMSE: 0.9677774592208344\n"
          ]
        }
      ]
    },
    {
      "cell_type": "markdown",
      "source": [
        "## **PEARSON SIMILARITY**"
      ],
      "metadata": {
        "id": "XDu8uBhE8aRv"
      }
    },
    {
      "cell_type": "code",
      "source": [
        "sim_options = {'user_based':  False, \"name\": 'pearson'}\n",
        "knn_m = KNNBasic(sim_options=sim_options)\n",
        "scores = cross_validate(knn_m, data, measures=['RMSE', 'MAE'], cv=5, verbose=True)\n",
        "\n",
        "mean_mae = scores['test_mae'].mean()\n",
        "mean_rmse = scores['test_rmse'].mean()\n",
        "\n",
        "print(f'Average MAE: {mean_mae}')\n",
        "print(f'Average RMSE: {mean_rmse}')\n",
        "\n",
        "item_mae.append(mean_mae)\n",
        "item_rmse.append(mean_rmse)"
      ],
      "metadata": {
        "colab": {
          "base_uri": "https://localhost:8080/"
        },
        "id": "9s9hnfL88eog",
        "outputId": "aee84d3c-c1a3-4976-ef5e-7f528b261cad"
      },
      "execution_count": 16,
      "outputs": [
        {
          "output_type": "stream",
          "name": "stdout",
          "text": [
            "Computing the pearson similarity matrix...\n",
            "Done computing similarity matrix.\n",
            "Computing the pearson similarity matrix...\n",
            "Done computing similarity matrix.\n",
            "Computing the pearson similarity matrix...\n",
            "Done computing similarity matrix.\n",
            "Computing the pearson similarity matrix...\n",
            "Done computing similarity matrix.\n",
            "Computing the pearson similarity matrix...\n",
            "Done computing similarity matrix.\n",
            "Evaluating RMSE, MAE of algorithm KNNBasic on 5 split(s).\n",
            "\n",
            "                  Fold 1  Fold 2  Fold 3  Fold 4  Fold 5  Mean    Std     \n",
            "RMSE (testset)    0.9817  0.9894  0.9949  0.9881  0.9943  0.9897  0.0048  \n",
            "MAE (testset)     0.7618  0.7728  0.7693  0.7657  0.7702  0.7680  0.0038  \n",
            "Fit time          14.78   15.86   14.90   14.82   14.78   15.03   0.42    \n",
            "Test time         5.48    5.19    5.39    6.25    5.28    5.52    0.38    \n",
            "Average MAE: 0.7679590594940604\n",
            "Average RMSE: 0.9896908080819997\n"
          ]
        }
      ]
    },
    {
      "cell_type": "code",
      "source": [
        "sim_options = {'user_based':  True, \"name\": 'pearson'}\n",
        "knn_m = KNNBasic(sim_options=sim_options)\n",
        "scores = cross_validate(knn_m, data, measures=['RMSE', 'MAE'], cv=5, verbose=True)\n",
        "\n",
        "mean_mae = scores['test_mae'].mean()\n",
        "mean_rmse = scores['test_rmse'].mean()\n",
        "\n",
        "print(f'Average MAE: {mean_mae}')\n",
        "print(f'Average RMSE: {mean_rmse}')\n",
        "\n",
        "user_mae.append(mean_mae)\n",
        "user_rmse.append(mean_rmse)"
      ],
      "metadata": {
        "colab": {
          "base_uri": "https://localhost:8080/"
        },
        "id": "o0jvxPxG8eaF",
        "outputId": "2b0d7f8f-50e9-4b96-aa60-637b3e52500f"
      },
      "execution_count": 17,
      "outputs": [
        {
          "output_type": "stream",
          "name": "stdout",
          "text": [
            "Computing the pearson similarity matrix...\n",
            "Done computing similarity matrix.\n",
            "Computing the pearson similarity matrix...\n",
            "Done computing similarity matrix.\n",
            "Computing the pearson similarity matrix...\n",
            "Done computing similarity matrix.\n",
            "Computing the pearson similarity matrix...\n",
            "Done computing similarity matrix.\n",
            "Computing the pearson similarity matrix...\n",
            "Done computing similarity matrix.\n",
            "Evaluating RMSE, MAE of algorithm KNNBasic on 5 split(s).\n",
            "\n",
            "                  Fold 1  Fold 2  Fold 3  Fold 4  Fold 5  Mean    Std     \n",
            "RMSE (testset)    0.9985  0.9854  0.9949  1.0007  1.0051  0.9969  0.0066  \n",
            "MAE (testset)     0.7708  0.7652  0.7719  0.7736  0.7784  0.7720  0.0043  \n",
            "Fit time          0.40    0.41    0.42    0.41    0.41    0.41    0.01    \n",
            "Test time         1.21    1.19    1.32    1.23    1.31    1.25    0.05    \n",
            "Average MAE: 0.7719676731634377\n",
            "Average RMSE: 0.9969254629724293\n"
          ]
        }
      ]
    },
    {
      "cell_type": "markdown",
      "source": [
        "# **MODELS COMPARISON**"
      ],
      "metadata": {
        "id": "TWTSGggfzMqg"
      }
    },
    {
      "cell_type": "code",
      "source": [
        "user_mae"
      ],
      "metadata": {
        "colab": {
          "base_uri": "https://localhost:8080/"
        },
        "id": "S84RV6tS7oeN",
        "outputId": "86f49edc-4aae-4d37-f53e-458c3f501fbd"
      },
      "execution_count": 28,
      "outputs": [
        {
          "output_type": "execute_result",
          "data": {
            "text/plain": [
              "[0.7672612644337056, 0.7441514412612129, 0.7719676731634377]"
            ]
          },
          "metadata": {},
          "execution_count": 28
        }
      ]
    },
    {
      "cell_type": "code",
      "source": [
        "import pandas as pd\n",
        "\n",
        "plotdata = pd.DataFrame({\n",
        "\n",
        "    \"Cosine\":[user_mae[0],item_mae[0]],\n",
        "\n",
        "    \"MSD\":[user_mae[1],item_mae[1]],\n",
        "\n",
        "    \"Pearson\":[user_mae[2],item_mae[2]]},\n",
        "\n",
        "    index=[\"User\", \"Item\"])\n",
        "\n",
        "plotdata.plot(kind=\"bar\",figsize=(10, 6))\n",
        "\n",
        "plt.title(\"Similarity Metrics Results for User Based & Item Based Collaborative Filtering\")\n",
        "\n",
        "plt.xlabel(\"Model\")\n",
        "\n",
        "plt.ylabel(\"MAE\")"
      ],
      "metadata": {
        "colab": {
          "base_uri": "https://localhost:8080/",
          "height": 434
        },
        "id": "FixPE9m2FahV",
        "outputId": "128f9460-d2b1-4eb0-98e1-7e8e1e63ad0c"
      },
      "execution_count": 30,
      "outputs": [
        {
          "output_type": "execute_result",
          "data": {
            "text/plain": [
              "Text(0, 0.5, 'MAE')"
            ]
          },
          "metadata": {},
          "execution_count": 30
        },
        {
          "output_type": "display_data",
          "data": {
            "text/plain": [
              "<Figure size 720x432 with 1 Axes>"
            ],
            "image/png": "[encoded data removed]"
          },
          "metadata": {
            "needs_background": "light"
          }
        }
      ]
    },
    {
      "cell_type": "code",
      "source": [
        "import pandas as pd\n",
        "\n",
        "plotdata = pd.DataFrame({\n",
        "\n",
        "    \"Cosine\":[user_rmse[0],item_rmse[0]],\n",
        "\n",
        "    \"MSD\":[user_rmse[1],item_rmse[1]],\n",
        "\n",
        "    \"Pearson\":[user_rmse[2],item_rmse[2]]},\n",
        "\n",
        "    index=[\"User\", \"Item\"])\n",
        "\n",
        "plotdata.plot(kind=\"bar\",figsize=(10, 6))\n",
        "\n",
        "plt.title(\"Similarity Metrics Results for User Based & Item Based Collaborative Filtering\")\n",
        "\n",
        "plt.xlabel(\"Model\")\n",
        "\n",
        "plt.ylabel(\"RMSE\")"
      ],
      "metadata": {
        "colab": {
          "base_uri": "https://localhost:8080/",
          "height": 434
        },
        "id": "4x6nx0rG8YXt",
        "outputId": "3ffff9a6-7dab-44ed-851a-879ea4157736"
      },
      "execution_count": 31,
      "outputs": [
        {
          "output_type": "execute_result",
          "data": {
            "text/plain": [
              "Text(0, 0.5, 'RMSE')"
            ]
          },
          "metadata": {},
          "execution_count": 31
        },
        {
          "output_type": "display_data",
          "data": {
            "text/plain": [
              "<Figure size 720x432 with 1 Axes>"
            ],
            "image/png": "[encoded data removed]"
          },
          "metadata": {
            "needs_background": "light"
          }
        }
      ]
    },
    {
      "cell_type": "markdown",
      "source": [
        "## **RUNNING THE MODELS FOR DIFFERENT K VALUES**"
      ],
      "metadata": {
        "id": "LByfqOrlzWqd"
      }
    },
    {
      "cell_type": "code",
      "source": [
        "k_values = [1, 3, 5, 7, 9, 11, 13, 15, 17, 19]\n",
        "\n",
        "k_user_mae  = []\n",
        "k_user_rmse = []\n",
        "\n",
        "k_item_mae  = []\n",
        "k_item_rmse = []"
      ],
      "metadata": {
        "id": "kAJtdhVyI1tH"
      },
      "execution_count": 19,
      "outputs": []
    },
    {
      "cell_type": "code",
      "source": [
        "for i in k_values:\n",
        "  print(\"For k = \" + str(i))\n",
        "  sim_options = {'user_based':  False}\n",
        "  knn_m = KNNBasic(i, sim_options=sim_options)\n",
        "  scores = cross_validate(knn_m, data, measures=['RMSE', 'MAE'], cv=5, verbose=True)\n",
        "\n",
        "  mean_mae = scores['test_mae'].mean()\n",
        "  mean_rmse = scores['test_rmse'].mean()\n",
        "\n",
        "  print(f'Average MAE: {mean_mae}')\n",
        "  print(f'Average RMSE: {mean_rmse}')\n",
        "  print('-----------------------------------------------------------------------')\n",
        "\n",
        "  k_item_mae.append(mean_mae)\n",
        "  k_item_rmse.append(mean_rmse)"
      ],
      "metadata": {
        "colab": {
          "base_uri": "https://localhost:8080/"
        },
        "id": "zlmhDEovHcJ6",
        "outputId": "b4f23128-f19a-4494-e515-c67fc07b9a66"
      },
      "execution_count": 20,
      "outputs": [
        {
          "output_type": "stream",
          "name": "stdout",
          "text": [
            "For k = 1\n",
            "Computing the msd similarity matrix...\n",
            "Done computing similarity matrix.\n",
            "Computing the msd similarity matrix...\n",
            "Done computing similarity matrix.\n",
            "Computing the msd similarity matrix...\n",
            "Done computing similarity matrix.\n",
            "Computing the msd similarity matrix...\n",
            "Done computing similarity matrix.\n",
            "Computing the msd similarity matrix...\n",
            "Done computing similarity matrix.\n",
            "Evaluating RMSE, MAE of algorithm KNNBasic on 5 split(s).\n",
            "\n",
            "                  Fold 1  Fold 2  Fold 3  Fold 4  Fold 5  Mean    Std     \n",
            "RMSE (testset)    1.3002  1.3025  1.3140  1.2943  1.3108  1.3044  0.0072  \n",
            "MAE (testset)     0.9634  0.9585  0.9736  0.9609  0.9696  0.9652  0.0056  \n",
            "Fit time          3.50    3.94    3.52    3.49    3.36    3.56    0.20    \n",
            "Test time         3.64    3.82    3.76    3.79    3.88    3.78    0.08    \n",
            "Average MAE: 0.9651853947919479\n",
            "Average RMSE: 1.304356285130826\n",
            "-----------------------------------------------------------------------\n",
            "For k = 3\n",
            "Computing the msd similarity matrix...\n",
            "Done computing similarity matrix.\n",
            "Computing the msd similarity matrix...\n",
            "Done computing similarity matrix.\n",
            "Computing the msd similarity matrix...\n",
            "Done computing similarity matrix.\n",
            "Computing the msd similarity matrix...\n",
            "Done computing similarity matrix.\n",
            "Computing the msd similarity matrix...\n",
            "Done computing similarity matrix.\n",
            "Evaluating RMSE, MAE of algorithm KNNBasic on 5 split(s).\n",
            "\n",
            "                  Fold 1  Fold 2  Fold 3  Fold 4  Fold 5  Mean    Std     \n",
            "RMSE (testset)    1.0839  1.0843  1.0812  1.0785  1.0767  1.0809  0.0030  \n",
            "MAE (testset)     0.8359  0.8356  0.8332  0.8282  0.8326  0.8331  0.0028  \n",
            "Fit time          3.53    3.58    3.99    4.00    3.57    3.73    0.21    \n",
            "Test time         3.98    5.03    3.95    4.09    3.99    4.21    0.41    \n",
            "Average MAE: 0.8331236718194889\n",
            "Average RMSE: 1.0809152455598598\n",
            "-----------------------------------------------------------------------\n",
            "For k = 5\n",
            "Computing the msd similarity matrix...\n",
            "Done computing similarity matrix.\n",
            "Computing the msd similarity matrix...\n",
            "Done computing similarity matrix.\n",
            "Computing the msd similarity matrix...\n",
            "Done computing similarity matrix.\n",
            "Computing the msd similarity matrix...\n",
            "Done computing similarity matrix.\n",
            "Computing the msd similarity matrix...\n",
            "Done computing similarity matrix.\n",
            "Evaluating RMSE, MAE of algorithm KNNBasic on 5 split(s).\n",
            "\n",
            "                  Fold 1  Fold 2  Fold 3  Fold 4  Fold 5  Mean    Std     \n",
            "RMSE (testset)    1.0226  1.0178  1.0150  1.0233  1.0210  1.0199  0.0031  \n",
            "MAE (testset)     0.7894  0.7882  0.7863  0.7913  0.7872  0.7885  0.0018  \n",
            "Fit time          3.46    3.51    3.63    3.56    3.41    3.51    0.08    \n",
            "Test time         3.90    5.14    4.13    4.28    4.05    4.30    0.44    \n",
            "Average MAE: 0.7884839260402092\n",
            "Average RMSE: 1.019943491434817\n",
            "-----------------------------------------------------------------------\n",
            "For k = 7\n",
            "Computing the msd similarity matrix...\n",
            "Done computing similarity matrix.\n",
            "Computing the msd similarity matrix...\n",
            "Done computing similarity matrix.\n",
            "Computing the msd similarity matrix...\n",
            "Done computing similarity matrix.\n",
            "Computing the msd similarity matrix...\n",
            "Done computing similarity matrix.\n",
            "Computing the msd similarity matrix...\n",
            "Done computing similarity matrix.\n",
            "Evaluating RMSE, MAE of algorithm KNNBasic on 5 split(s).\n",
            "\n",
            "                  Fold 1  Fold 2  Fold 3  Fold 4  Fold 5  Mean    Std     \n",
            "RMSE (testset)    1.0017  0.9955  0.9955  0.9963  0.9998  0.9978  0.0025  \n",
            "MAE (testset)     0.7742  0.7687  0.7689  0.7723  0.7760  0.7720  0.0029  \n",
            "Fit time          3.42    3.45    4.11    3.58    3.48    3.61    0.26    \n",
            "Test time         4.19    4.26    4.18    4.37    4.34    4.27    0.08    \n",
            "Average MAE: 0.7720224716729552\n",
            "Average RMSE: 0.9977613962707894\n",
            "-----------------------------------------------------------------------\n",
            "For k = 9\n",
            "Computing the msd similarity matrix...\n",
            "Done computing similarity matrix.\n",
            "Computing the msd similarity matrix...\n",
            "Done computing similarity matrix.\n",
            "Computing the msd similarity matrix...\n",
            "Done computing similarity matrix.\n",
            "Computing the msd similarity matrix...\n",
            "Done computing similarity matrix.\n",
            "Computing the msd similarity matrix...\n",
            "Done computing similarity matrix.\n",
            "Evaluating RMSE, MAE of algorithm KNNBasic on 5 split(s).\n",
            "\n",
            "                  Fold 1  Fold 2  Fold 3  Fold 4  Fold 5  Mean    Std     \n",
            "RMSE (testset)    0.9819  0.9797  0.9766  0.9877  0.9742  0.9800  0.0047  \n",
            "MAE (testset)     0.7604  0.7582  0.7537  0.7640  0.7537  0.7580  0.0040  \n",
            "Fit time          3.47    3.58    3.43    3.53    3.53    3.51    0.05    \n",
            "Test time         4.49    4.19    4.38    4.54    4.37    4.40    0.12    \n",
            "Average MAE: 0.7579979631716224\n",
            "Average RMSE: 0.9800234170069675\n",
            "-----------------------------------------------------------------------\n",
            "For k = 11\n",
            "Computing the msd similarity matrix...\n",
            "Done computing similarity matrix.\n",
            "Computing the msd similarity matrix...\n",
            "Done computing similarity matrix.\n",
            "Computing the msd similarity matrix...\n",
            "Done computing similarity matrix.\n",
            "Computing the msd similarity matrix...\n",
            "Done computing similarity matrix.\n",
            "Computing the msd similarity matrix...\n",
            "Done computing similarity matrix.\n",
            "Evaluating RMSE, MAE of algorithm KNNBasic on 5 split(s).\n",
            "\n",
            "                  Fold 1  Fold 2  Fold 3  Fold 4  Fold 5  Mean    Std     \n",
            "RMSE (testset)    0.9753  0.9739  0.9724  0.9636  0.9637  0.9698  0.0051  \n",
            "MAE (testset)     0.7566  0.7506  0.7526  0.7461  0.7439  0.7500  0.0046  \n",
            "Fit time          3.42    3.50    3.35    3.51    4.17    3.59    0.29    \n",
            "Test time         4.37    4.49    4.50    4.37    5.39    4.62    0.39    \n",
            "Average MAE: 0.749974280114299\n",
            "Average RMSE: 0.9698030489403772\n",
            "-----------------------------------------------------------------------\n",
            "For k = 13\n",
            "Computing the msd similarity matrix...\n",
            "Done computing similarity matrix.\n",
            "Computing the msd similarity matrix...\n",
            "Done computing similarity matrix.\n",
            "Computing the msd similarity matrix...\n",
            "Done computing similarity matrix.\n",
            "Computing the msd similarity matrix...\n",
            "Done computing similarity matrix.\n",
            "Computing the msd similarity matrix...\n",
            "Done computing similarity matrix.\n",
            "Evaluating RMSE, MAE of algorithm KNNBasic on 5 split(s).\n",
            "\n",
            "                  Fold 1  Fold 2  Fold 3  Fold 4  Fold 5  Mean    Std     \n",
            "RMSE (testset)    0.9594  0.9622  0.9579  0.9600  0.9657  0.9610  0.0027  \n",
            "MAE (testset)     0.7424  0.7473  0.7389  0.7423  0.7435  0.7429  0.0027  \n",
            "Fit time          3.46    3.47    3.57    3.34    3.34    3.43    0.09    \n",
            "Test time         4.43    4.39    4.60    4.32    4.56    4.46    0.11    \n",
            "Average MAE: 0.7428630859752741\n",
            "Average RMSE: 0.9610216220211779\n",
            "-----------------------------------------------------------------------\n",
            "For k = 15\n",
            "Computing the msd similarity matrix...\n",
            "Done computing similarity matrix.\n",
            "Computing the msd similarity matrix...\n",
            "Done computing similarity matrix.\n",
            "Computing the msd similarity matrix...\n",
            "Done computing similarity matrix.\n",
            "Computing the msd similarity matrix...\n",
            "Done computing similarity matrix.\n",
            "Computing the msd similarity matrix...\n",
            "Done computing similarity matrix.\n",
            "Evaluating RMSE, MAE of algorithm KNNBasic on 5 split(s).\n",
            "\n",
            "                  Fold 1  Fold 2  Fold 3  Fold 4  Fold 5  Mean    Std     \n",
            "RMSE (testset)    0.9691  0.9627  0.9507  0.9498  0.9561  0.9577  0.0073  \n",
            "MAE (testset)     0.7478  0.7429  0.7346  0.7384  0.7386  0.7405  0.0045  \n",
            "Fit time          3.46    3.33    3.46    3.37    3.33    3.39    0.06    \n",
            "Test time         4.65    4.46    4.51    4.40    4.49    4.50    0.08    \n",
            "Average MAE: 0.7404731656811261\n",
            "Average RMSE: 0.9576799072710351\n",
            "-----------------------------------------------------------------------\n",
            "For k = 17\n",
            "Computing the msd similarity matrix...\n",
            "Done computing similarity matrix.\n",
            "Computing the msd similarity matrix...\n",
            "Done computing similarity matrix.\n",
            "Computing the msd similarity matrix...\n",
            "Done computing similarity matrix.\n",
            "Computing the msd similarity matrix...\n",
            "Done computing similarity matrix.\n",
            "Computing the msd similarity matrix...\n",
            "Done computing similarity matrix.\n",
            "Evaluating RMSE, MAE of algorithm KNNBasic on 5 split(s).\n",
            "\n",
            "                  Fold 1  Fold 2  Fold 3  Fold 4  Fold 5  Mean    Std     \n",
            "RMSE (testset)    0.9505  0.9486  0.9547  0.9503  0.9517  0.9512  0.0020  \n",
            "MAE (testset)     0.7359  0.7342  0.7372  0.7344  0.7368  0.7357  0.0012  \n",
            "Fit time          3.44    3.39    3.47    3.49    3.43    3.44    0.04    \n",
            "Test time         4.46    4.61    4.68    4.42    4.57    4.55    0.10    \n",
            "Average MAE: 0.7357030450050683\n",
            "Average RMSE: 0.9511544499249572\n",
            "-----------------------------------------------------------------------\n",
            "For k = 19\n",
            "Computing the msd similarity matrix...\n",
            "Done computing similarity matrix.\n",
            "Computing the msd similarity matrix...\n",
            "Done computing similarity matrix.\n",
            "Computing the msd similarity matrix...\n",
            "Done computing similarity matrix.\n",
            "Computing the msd similarity matrix...\n",
            "Done computing similarity matrix.\n",
            "Computing the msd similarity matrix...\n",
            "Done computing similarity matrix.\n",
            "Evaluating RMSE, MAE of algorithm KNNBasic on 5 split(s).\n",
            "\n",
            "                  Fold 1  Fold 2  Fold 3  Fold 4  Fold 5  Mean    Std     \n",
            "RMSE (testset)    0.9480  0.9508  0.9474  0.9494  0.9492  0.9490  0.0012  \n",
            "MAE (testset)     0.7324  0.7362  0.7281  0.7338  0.7337  0.7328  0.0027  \n",
            "Fit time          3.40    3.56    3.58    3.54    3.47    3.51    0.07    \n",
            "Test time         4.50    4.74    4.56    4.75    4.62    4.64    0.10    \n",
            "Average MAE: 0.7328173953853395\n",
            "Average RMSE: 0.9489719960473538\n",
            "-----------------------------------------------------------------------\n"
          ]
        }
      ]
    },
    {
      "cell_type": "code",
      "source": [
        "for i in k_values:\n",
        "  print(\"For k = \" + str(i))\n",
        "  sim_options = {'user_based':  True}\n",
        "  knn_m = KNNBasic(i, sim_options=sim_options)\n",
        "  scores = cross_validate(knn_m, data, measures=['RMSE', 'MAE'], cv=5, verbose=True)\n",
        "\n",
        "  mean_mae = scores['test_mae'].mean()\n",
        "  mean_rmse = scores['test_rmse'].mean()\n",
        "\n",
        "  print(f'Average MAE: {mean_mae}')\n",
        "  print(f'Average RMSE: {mean_rmse}')\n",
        "  print('-----------------------------------------------------------------------')\n",
        "\n",
        "  k_user_mae.append(mean_mae)\n",
        "  k_user_rmse.append(mean_rmse)"
      ],
      "metadata": {
        "colab": {
          "base_uri": "https://localhost:8080/"
        },
        "id": "cYuNIqYCHao0",
        "outputId": "7edfadae-d9eb-46d8-b4c2-564328c8f964"
      },
      "execution_count": 21,
      "outputs": [
        {
          "output_type": "stream",
          "name": "stdout",
          "text": [
            "For k = 1\n",
            "Computing the msd similarity matrix...\n",
            "Done computing similarity matrix.\n",
            "Computing the msd similarity matrix...\n",
            "Done computing similarity matrix.\n",
            "Computing the msd similarity matrix...\n",
            "Done computing similarity matrix.\n",
            "Computing the msd similarity matrix...\n",
            "Done computing similarity matrix.\n",
            "Computing the msd similarity matrix...\n",
            "Done computing similarity matrix.\n",
            "Evaluating RMSE, MAE of algorithm KNNBasic on 5 split(s).\n",
            "\n",
            "                  Fold 1  Fold 2  Fold 3  Fold 4  Fold 5  Mean    Std     \n",
            "RMSE (testset)    1.2090  1.2166  1.2143  1.2121  1.2087  1.2121  0.0030  \n",
            "MAE (testset)     0.8979  0.9045  0.9063  0.9063  0.9016  0.9033  0.0032  \n",
            "Fit time          0.10    0.13    0.14    0.13    0.17    0.13    0.02    \n",
            "Test time         0.74    0.66    0.61    0.79    1.10    0.78    0.17    \n",
            "Average MAE: 0.9033196514803118\n",
            "Average RMSE: 1.2121378387059265\n",
            "-----------------------------------------------------------------------\n",
            "For k = 3\n",
            "Computing the msd similarity matrix...\n",
            "Done computing similarity matrix.\n",
            "Computing the msd similarity matrix...\n",
            "Done computing similarity matrix.\n",
            "Computing the msd similarity matrix...\n",
            "Done computing similarity matrix.\n",
            "Computing the msd similarity matrix...\n",
            "Done computing similarity matrix.\n",
            "Computing the msd similarity matrix...\n",
            "Done computing similarity matrix.\n",
            "Evaluating RMSE, MAE of algorithm KNNBasic on 5 split(s).\n",
            "\n",
            "                  Fold 1  Fold 2  Fold 3  Fold 4  Fold 5  Mean    Std     \n",
            "RMSE (testset)    1.0158  1.0225  1.0169  1.0300  1.0192  1.0209  0.0051  \n",
            "MAE (testset)     0.7771  0.7795  0.7791  0.7893  0.7819  0.7814  0.0042  \n",
            "Fit time          0.15    0.18    0.20    0.14    0.14    0.16    0.03    \n",
            "Test time         0.90    1.43    0.92    0.78    0.88    0.98    0.23    \n",
            "Average MAE: 0.781370321482865\n",
            "Average RMSE: 1.0208874336543894\n",
            "-----------------------------------------------------------------------\n",
            "For k = 5\n",
            "Computing the msd similarity matrix...\n",
            "Done computing similarity matrix.\n",
            "Computing the msd similarity matrix...\n",
            "Done computing similarity matrix.\n",
            "Computing the msd similarity matrix...\n",
            "Done computing similarity matrix.\n",
            "Computing the msd similarity matrix...\n",
            "Done computing similarity matrix.\n",
            "Computing the msd similarity matrix...\n",
            "Done computing similarity matrix.\n",
            "Evaluating RMSE, MAE of algorithm KNNBasic on 5 split(s).\n",
            "\n",
            "                  Fold 1  Fold 2  Fold 3  Fold 4  Fold 5  Mean    Std     \n",
            "RMSE (testset)    0.9860  0.9788  0.9882  0.9909  0.9839  0.9856  0.0041  \n",
            "MAE (testset)     0.7530  0.7501  0.7562  0.7599  0.7556  0.7550  0.0033  \n",
            "Fit time          0.11    0.13    0.14    0.13    0.14    0.13    0.01    \n",
            "Test time         0.87    0.85    0.92    0.83    0.92    0.88    0.04    \n",
            "Average MAE: 0.7549697993160158\n",
            "Average RMSE: 0.985551419088383\n",
            "-----------------------------------------------------------------------\n",
            "For k = 7\n",
            "Computing the msd similarity matrix...\n",
            "Done computing similarity matrix.\n",
            "Computing the msd similarity matrix...\n",
            "Done computing similarity matrix.\n",
            "Computing the msd similarity matrix...\n",
            "Done computing similarity matrix.\n",
            "Computing the msd similarity matrix...\n",
            "Done computing similarity matrix.\n",
            "Computing the msd similarity matrix...\n",
            "Done computing similarity matrix.\n",
            "Evaluating RMSE, MAE of algorithm KNNBasic on 5 split(s).\n",
            "\n",
            "                  Fold 1  Fold 2  Fold 3  Fold 4  Fold 5  Mean    Std     \n",
            "RMSE (testset)    0.9657  0.9736  0.9787  0.9727  0.9681  0.9718  0.0045  \n",
            "MAE (testset)     0.7394  0.7434  0.7469  0.7440  0.7415  0.7430  0.0025  \n",
            "Fit time          0.10    0.13    0.14    0.14    0.13    0.13    0.01    \n",
            "Test time         0.86    0.96    0.86    0.89    0.98    0.91    0.05    \n",
            "Average MAE: 0.7430360263901009\n",
            "Average RMSE: 0.9717781340998153\n",
            "-----------------------------------------------------------------------\n",
            "For k = 9\n",
            "Computing the msd similarity matrix...\n",
            "Done computing similarity matrix.\n",
            "Computing the msd similarity matrix...\n",
            "Done computing similarity matrix.\n",
            "Computing the msd similarity matrix...\n",
            "Done computing similarity matrix.\n",
            "Computing the msd similarity matrix...\n",
            "Done computing similarity matrix.\n",
            "Computing the msd similarity matrix...\n",
            "Done computing similarity matrix.\n",
            "Evaluating RMSE, MAE of algorithm KNNBasic on 5 split(s).\n",
            "\n",
            "                  Fold 1  Fold 2  Fold 3  Fold 4  Fold 5  Mean    Std     \n",
            "RMSE (testset)    0.9709  0.9689  0.9604  0.9590  0.9717  0.9662  0.0054  \n",
            "MAE (testset)     0.7464  0.7386  0.7330  0.7349  0.7418  0.7389  0.0048  \n",
            "Fit time          0.11    0.13    0.13    0.14    0.15    0.13    0.01    \n",
            "Test time         0.94    1.03    0.93    1.04    1.00    0.98    0.04    \n",
            "Average MAE: 0.7389422241375303\n",
            "Average RMSE: 0.9661753570701187\n",
            "-----------------------------------------------------------------------\n",
            "For k = 11\n",
            "Computing the msd similarity matrix...\n",
            "Done computing similarity matrix.\n",
            "Computing the msd similarity matrix...\n",
            "Done computing similarity matrix.\n",
            "Computing the msd similarity matrix...\n",
            "Done computing similarity matrix.\n",
            "Computing the msd similarity matrix...\n",
            "Done computing similarity matrix.\n",
            "Computing the msd similarity matrix...\n",
            "Done computing similarity matrix.\n",
            "Evaluating RMSE, MAE of algorithm KNNBasic on 5 split(s).\n",
            "\n",
            "                  Fold 1  Fold 2  Fold 3  Fold 4  Fold 5  Mean    Std     \n",
            "RMSE (testset)    0.9654  0.9600  0.9579  0.9607  0.9670  0.9622  0.0034  \n",
            "MAE (testset)     0.7395  0.7347  0.7319  0.7342  0.7425  0.7365  0.0039  \n",
            "Fit time          0.11    0.14    0.15    0.14    0.14    0.13    0.01    \n",
            "Test time         0.99    1.10    1.00    1.16    0.99    1.05    0.07    \n",
            "Average MAE: 0.7365494850099561\n",
            "Average RMSE: 0.9621935007024579\n",
            "-----------------------------------------------------------------------\n",
            "For k = 13\n",
            "Computing the msd similarity matrix...\n",
            "Done computing similarity matrix.\n",
            "Computing the msd similarity matrix...\n",
            "Done computing similarity matrix.\n",
            "Computing the msd similarity matrix...\n",
            "Done computing similarity matrix.\n",
            "Computing the msd similarity matrix...\n",
            "Done computing similarity matrix.\n",
            "Computing the msd similarity matrix...\n",
            "Done computing similarity matrix.\n",
            "Evaluating RMSE, MAE of algorithm KNNBasic on 5 split(s).\n",
            "\n",
            "                  Fold 1  Fold 2  Fold 3  Fold 4  Fold 5  Mean    Std     \n",
            "RMSE (testset)    0.9610  0.9546  0.9721  0.9631  0.9604  0.9622  0.0057  \n",
            "MAE (testset)     0.7348  0.7311  0.7448  0.7350  0.7366  0.7365  0.0045  \n",
            "Fit time          0.13    0.13    0.13    0.13    0.13    0.13    0.00    \n",
            "Test time         1.09    1.06    0.99    0.99    0.97    1.02    0.05    \n",
            "Average MAE: 0.7364636502546752\n",
            "Average RMSE: 0.9622433300403485\n",
            "-----------------------------------------------------------------------\n",
            "For k = 15\n",
            "Computing the msd similarity matrix...\n",
            "Done computing similarity matrix.\n",
            "Computing the msd similarity matrix...\n",
            "Done computing similarity matrix.\n",
            "Computing the msd similarity matrix...\n",
            "Done computing similarity matrix.\n",
            "Computing the msd similarity matrix...\n",
            "Done computing similarity matrix.\n",
            "Computing the msd similarity matrix...\n",
            "Done computing similarity matrix.\n",
            "Evaluating RMSE, MAE of algorithm KNNBasic on 5 split(s).\n",
            "\n",
            "                  Fold 1  Fold 2  Fold 3  Fold 4  Fold 5  Mean    Std     \n",
            "RMSE (testset)    0.9523  0.9647  0.9664  0.9567  0.9655  0.9611  0.0056  \n",
            "MAE (testset)     0.7293  0.7361  0.7398  0.7346  0.7400  0.7360  0.0039  \n",
            "Fit time          0.10    0.13    0.14    0.13    0.13    0.13    0.01    \n",
            "Test time         1.08    0.99    1.08    0.99    0.97    1.02    0.05    \n",
            "Average MAE: 0.7359606328641831\n",
            "Average RMSE: 0.961132530499688\n",
            "-----------------------------------------------------------------------\n",
            "For k = 17\n",
            "Computing the msd similarity matrix...\n",
            "Done computing similarity matrix.\n",
            "Computing the msd similarity matrix...\n",
            "Done computing similarity matrix.\n",
            "Computing the msd similarity matrix...\n",
            "Done computing similarity matrix.\n",
            "Computing the msd similarity matrix...\n",
            "Done computing similarity matrix.\n",
            "Computing the msd similarity matrix...\n",
            "Done computing similarity matrix.\n",
            "Evaluating RMSE, MAE of algorithm KNNBasic on 5 split(s).\n",
            "\n",
            "                  Fold 1  Fold 2  Fold 3  Fold 4  Fold 5  Mean    Std     \n",
            "RMSE (testset)    0.9682  0.9613  0.9573  0.9562  0.9667  0.9619  0.0048  \n",
            "MAE (testset)     0.7405  0.7358  0.7312  0.7336  0.7405  0.7363  0.0037  \n",
            "Fit time          0.10    0.14    0.13    0.13    0.13    0.13    0.01    \n",
            "Test time         1.01    1.02    1.10    1.01    1.10    1.05    0.04    \n",
            "Average MAE: 0.7363162542682368\n",
            "Average RMSE: 0.9619317901466713\n",
            "-----------------------------------------------------------------------\n",
            "For k = 19\n",
            "Computing the msd similarity matrix...\n",
            "Done computing similarity matrix.\n",
            "Computing the msd similarity matrix...\n",
            "Done computing similarity matrix.\n",
            "Computing the msd similarity matrix...\n",
            "Done computing similarity matrix.\n",
            "Computing the msd similarity matrix...\n",
            "Done computing similarity matrix.\n",
            "Computing the msd similarity matrix...\n",
            "Done computing similarity matrix.\n",
            "Evaluating RMSE, MAE of algorithm KNNBasic on 5 split(s).\n",
            "\n",
            "                  Fold 1  Fold 2  Fold 3  Fold 4  Fold 5  Mean    Std     \n",
            "RMSE (testset)    0.9598  0.9598  0.9606  0.9642  0.9692  0.9627  0.0036  \n",
            "MAE (testset)     0.7361  0.7351  0.7375  0.7370  0.7422  0.7376  0.0025  \n",
            "Fit time          0.10    0.13    0.14    0.13    0.13    0.13    0.01    \n",
            "Test time         1.03    1.02    1.11    1.03    1.12    1.06    0.05    \n",
            "Average MAE: 0.737589093601167\n",
            "Average RMSE: 0.9626985711039303\n",
            "-----------------------------------------------------------------------\n"
          ]
        }
      ]
    },
    {
      "cell_type": "markdown",
      "source": [
        "# **GRAPH PLOTS**"
      ],
      "metadata": {
        "id": "TRlP-HDVzel_"
      }
    },
    {
      "cell_type": "code",
      "source": [
        "plt.figure(figsize=(10,5))\n",
        "plt.plot(k_values, k_user_rmse)\n",
        "plt.title('NEIGHBOURS FOR RMSE ON USER BASED COLLABORATIVE FILTERING')\n",
        "plt.xlabel('neighbors')\n",
        "plt.ylabel('RMSE')\n",
        "\n",
        "plt.show()\n",
        "\n",
        "plt.figure(figsize=(10,5))\n",
        "plt.plot(k_values, k_item_rmse)\n",
        "plt.title('NEIGHBOURS FOR RMSE ON ITEM BASED COLLABORATIVE FILTERING')\n",
        "plt.xlabel('neighbors')\n",
        "plt.ylabel('RMSE')\n",
        "\n",
        "plt.show()\n",
        "\n",
        "plt.figure(figsize=(10,5))\n",
        "plt.plot(k_values, k_user_mae)\n",
        "plt.title('NEIGHBOURS FOR MAE ON USER BASED COLLABORATIVE FILTERING')\n",
        "plt.xlabel('neighbors')\n",
        "plt.ylabel('MAE')\n",
        "\n",
        "plt.show()\n",
        "\n",
        "plt.figure(figsize=(10,5))\n",
        "plt.plot(k_values, k_item_mae)\n",
        "plt.title('NEIGHBOURS FOR MAE ON ITEM BASED COLLABORATIVE FILTERING')\n",
        "plt.xlabel('neighbors')\n",
        "plt.ylabel('MAE')\n",
        "\n",
        "\n",
        "plt.show()"
      ],
      "metadata": {
        "colab": {
          "base_uri": "https://localhost:8080/",
          "height": 1000
        },
        "id": "UgAebIY9Hafn",
        "outputId": "c9839f8d-d9c5-445a-de16-b8232a23a856"
      },
      "execution_count": 22,
      "outputs": [
        {
          "output_type": "display_data",
          "data": {
            "text/plain": [
              "<Figure size 720x360 with 1 Axes>"
            ],
            "image/png": "[encoded data removed]"
          },
          "metadata": {
            "needs_background": "light"
          }
        },
        {
          "output_type": "display_data",
          "data": {
            "text/plain": [
              "<Figure size 720x360 with 1 Axes>"
            ],
            "image/png": "[encoded data removed]"
          },
          "metadata": {
            "needs_background": "light"
          }
        },
        {
          "output_type": "display_data",
          "data": {
            "text/plain": [
              "<Figure size 720x360 with 1 Axes>"
            ],
            "image/png": "[encoded data removed]"
          },
          "metadata": {
            "needs_background": "light"
          }
        },
        {
          "output_type": "display_data",
          "data": {
            "text/plain": [
              "<Figure size 720x360 with 1 Axes>"
            ],
            "image/png": "[encoded data removed]"
          },
          "metadata": {
            "needs_background": "light"
          }
        }
      ]
    },
    {
      "cell_type": "code",
      "source": [
        "k_user_rmse"
      ],
      "metadata": {
        "colab": {
          "base_uri": "https://localhost:8080/"
        },
        "id": "8WCoI_v6HaVv",
        "outputId": "271bd0d4-1317-47e9-fe58-4c12970f3dd3"
      },
      "execution_count": 23,
      "outputs": [
        {
          "output_type": "execute_result",
          "data": {
            "text/plain": [
              "[1.2121378387059265,\n",
              " 1.0208874336543894,\n",
              " 0.985551419088383,\n",
              " 0.9717781340998153,\n",
              " 0.9661753570701187,\n",
              " 0.9621935007024579,\n",
              " 0.9622433300403485,\n",
              " 0.961132530499688,\n",
              " 0.9619317901466713,\n",
              " 0.9626985711039303]"
            ]
          },
          "metadata": {},
          "execution_count": 23
        }
      ]
    },
    {
      "cell_type": "code",
      "source": [
        "k_item_rmse"
      ],
      "metadata": {
        "colab": {
          "base_uri": "https://localhost:8080/"
        },
        "id": "ZEN7Ch94MeeM",
        "outputId": "2178b8cc-0cc9-4b89-e2cf-5b9b2c9edfc0"
      },
      "execution_count": 24,
      "outputs": [
        {
          "output_type": "execute_result",
          "data": {
            "text/plain": [
              "[1.304356285130826,\n",
              " 1.0809152455598598,\n",
              " 1.019943491434817,\n",
              " 0.9977613962707894,\n",
              " 0.9800234170069675,\n",
              " 0.9698030489403772,\n",
              " 0.9610216220211779,\n",
              " 0.9576799072710351,\n",
              " 0.9511544499249572,\n",
              " 0.9489719960473538]"
            ]
          },
          "metadata": {},
          "execution_count": 24
        }
      ]
    },
    {
      "cell_type": "code",
      "source": [
        "k_user_mae"
      ],
      "metadata": {
        "colab": {
          "base_uri": "https://localhost:8080/"
        },
        "id": "N2cFNQ-BQ2h4",
        "outputId": "e185c649-16c2-4c32-b331-3eee051b5ac3"
      },
      "execution_count": 25,
      "outputs": [
        {
          "output_type": "execute_result",
          "data": {
            "text/plain": [
              "[0.9033196514803118,\n",
              " 0.781370321482865,\n",
              " 0.7549697993160158,\n",
              " 0.7430360263901009,\n",
              " 0.7389422241375303,\n",
              " 0.7365494850099561,\n",
              " 0.7364636502546752,\n",
              " 0.7359606328641831,\n",
              " 0.7363162542682368,\n",
              " 0.737589093601167]"
            ]
          },
          "metadata": {},
          "execution_count": 25
        }
      ]
    },
    {
      "cell_type": "code",
      "source": [
        "k_item_mae"
      ],
      "metadata": {
        "colab": {
          "base_uri": "https://localhost:8080/"
        },
        "id": "_NHPIZnTQ2UO",
        "outputId": "75c533fd-356d-43fd-daee-a58930373607"
      },
      "execution_count": 26,
      "outputs": [
        {
          "output_type": "execute_result",
          "data": {
            "text/plain": [
              "[0.9651853947919479,\n",
              " 0.8331236718194889,\n",
              " 0.7884839260402092,\n",
              " 0.7720224716729552,\n",
              " 0.7579979631716224,\n",
              " 0.749974280114299,\n",
              " 0.7428630859752741,\n",
              " 0.7404731656811261,\n",
              " 0.7357030450050683,\n",
              " 0.7328173953853395]"
            ]
          },
          "metadata": {},
          "execution_count": 26
        }
      ]
    },
    {
      "cell_type": "code",
      "source": [
        "print('BEST K - VALUES')\n",
        "print('------------------')\n",
        "\n",
        "print('USER BASED COLLABORATIVE FILTERING - MAE')\n",
        "print('Best K: ', k_values[np.argmin(k_user_mae)])\n",
        "print('Best K MAE: ', np.min(k_user_mae))\n",
        "\n",
        "print('\\nUSER BASED COLLABORATIVE FILTERING - RMSE')\n",
        "print('Best K: ', k_values[np.argmin(k_user_rmse)])\n",
        "print('Best K RMSE: ', np.min(k_user_rmse))\n",
        "\n",
        "print('\\nITEM BASED COLLABORATIVE FILTERING - MAE')\n",
        "print('Best K: ', k_values[np.argmin(k_item_mae)])\n",
        "print('Best K MAE: ', np.min(k_item_mae))\n",
        "\n",
        "print('\\nITEM BASED COLLABORATIVE FILTERING - RMSE')\n",
        "print('Best K: ', k_values[np.argmin(k_item_rmse)])\n",
        "print('Best K RMSE: ', np.min(k_item_rmse))"
      ],
      "metadata": {
        "colab": {
          "base_uri": "https://localhost:8080/"
        },
        "id": "zHFdfaRbRKpv",
        "outputId": "636c4477-9e1e-4d9b-d000-acbafd2753cf"
      },
      "execution_count": 27,
      "outputs": [
        {
          "output_type": "stream",
          "name": "stdout",
          "text": [
            "BEST K - VALUES\n",
            "------------------\n",
            "USER BASED COLLABORATIVE FILTERING - MAE\n",
            "Best K:  15\n",
            "Best K MAE:  0.7359606328641831\n",
            "\n",
            "USER BASED COLLABORATIVE FILTERING - RMSE\n",
            "Best K:  15\n",
            "Best K RMSE:  0.961132530499688\n",
            "\n",
            "ITEM BASED COLLABORATIVE FILTERING - MAE\n",
            "Best K:  19\n",
            "Best K MAE:  0.7328173953853395\n",
            "\n",
            "ITEM BASED COLLABORATIVE FILTERING - RMSE\n",
            "Best K:  19\n",
            "Best K RMSE:  0.9489719960473538\n"
          ]
        }
      ]
    }
  ]
}